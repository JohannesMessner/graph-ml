{
 "cells": [
  {
   "cell_type": "code",
   "execution_count": 1,
   "id": "mature-catering",
   "metadata": {},
   "outputs": [],
   "source": [
    "import networkx as nx\n",
    "import numpy as np\n",
    "import torch\n",
    "import torch.nn as nn\n",
    "import torch.nn.functional as F\n",
    "import torch_geometric.nn as geom_nn\n",
    "from torch_geometric.data import Data\n",
    "from torch_geometric.data import DataLoader\n",
    "from torch_geometric.data import InMemoryDataset\n",
    "from torch_geometric.utils import from_networkx"
   ]
  },
  {
   "cell_type": "markdown",
   "id": "requested-compound",
   "metadata": {},
   "source": [
    "# Generating a cycle dataset\n",
    "\n",
    "Here we generate a dataset containing pairs of graphs that are not distinguishable by the 1-WL isomorphism test.\n",
    "Later we will use GNNs to learn to tell them apart."
   ]
  },
  {
   "cell_type": "code",
   "execution_count": 2,
   "id": "universal-origin",
   "metadata": {},
   "outputs": [],
   "source": [
    "graphs_nx = []\n",
    "graphs_is_cycle = []  # keeps track if a graph is a cycle or disjoint\n",
    "for n in range(6, 16):\n",
    "    g_cyc = nx.Graph()\n",
    "    g_cyc.add_nodes_from(range(n))\n",
    "    g_cyc.add_edges_from([(x, x+1) for x in range(n-1)] + [(n-1, 0)])  # connect nodes to cycle\n",
    "    \n",
    "    for split_n in range(3,n-2):\n",
    "        g_split = nx.Graph()\n",
    "        g_cyc.add_nodes_from(range(n))\n",
    "        g_split.add_edges_from([(x, x+1) for x in range(split_n-1)] + [(split_n-1, 0)])  # first cycle of size split_n\n",
    "        g_split.add_edges_from([(x, x+1) for x in range(split_n, n-1)] + [(n-1, split_n)])  # dsecond cycle of remaing nodes\n",
    "        graphs_nx.append(g_split)\n",
    "        graphs_is_cycle.append(False)\n",
    "        graphs_nx.append(g_cyc)  # add g_cyc every time to maintain balance\n",
    "        graphs_is_cycle.append(True)\n",
    "        \n",
    "        "
   ]
  },
  {
   "cell_type": "code",
   "execution_count": 3,
   "id": "solved-meaning",
   "metadata": {},
   "outputs": [],
   "source": [
    "# Converting the graphs to torch_geometric.data.Data objects\n",
    "graphs = [from_networkx(g) for g in graphs_nx]\n",
    "for i_g, g in enumerate(graphs):\n",
    "    g.x = torch.zeros((g.num_nodes, 50))  # uniform x/features\n",
    "    g.y = torch.tensor([1 if graphs_is_cycle[i_g] else 0])  # target label indicating whether graph is cycle or disjoint"
   ]
  },
  {
   "cell_type": "markdown",
   "id": "intended-village",
   "metadata": {},
   "source": [
    "# Building a GNN"
   ]
  },
  {
   "cell_type": "code",
   "execution_count": 13,
   "id": "overhead-retail",
   "metadata": {},
   "outputs": [],
   "source": [
    "# Custom message passing layer\n",
    "#class CustomLayer(geom_nn.MessagePassing):\n",
    "    #def __init__(self, in_channels, out_channels):\n",
    "        #super().__init__(aggr='add')\n",
    "        #self.lin = nn.Linear(in_channels, out_channels)\n",
    "        #self.activation = nn.ReLU()\n",
    "        \n",
    "    # activation, linear etc probably goes here\n",
    "    #def forward(self, x, edge_index):\n",
    "        #return self.propagate(edge_index, x=x)\n",
    "    \n",
    "    # stuff that happens after all the message passing, so just id??\n",
    "    #def update(self, x):\n",
    "        #return self.activation(self.linear(x))\n",
    "        \n",
    "    # this looks fine\n",
    "    #def message(self, x_j):\n",
    "        #return x_j\n",
    "\n",
    "class Net(nn.Module):\n",
    "    def __init__(self, input_dim, hidden_dim, output_dim, depth, mp_layer=None):\n",
    "        super().__init__()\n",
    "        # the type of message passing layer used throughout the net\n",
    "        self.mp_layer = geom_nn.GCNConv if mp_layer is None else mp_layer\n",
    "        self.pool = geom_nn.global_mean_pool\n",
    "        self.mp_layers = nn.ModuleList()\n",
    "        \n",
    "        # standard mlp used after message passing layers\n",
    "        self.post_mp = nn.Sequential(\n",
    "            nn.Linear(hidden_dim, hidden_dim),\n",
    "            nn.ReLU(),\n",
    "            nn.Dropout(0.25),\n",
    "            nn.Linear(hidden_dim, output_dim),\n",
    "            nn.Sigmoid())\n",
    "        \n",
    "        # add message passing layers\n",
    "        self.mp_layers.append(self.mp_layer(input_dim, hidden_dim))\n",
    "        for i in range(depth-1):\n",
    "            self.mp_layers.append(self.mp_layer(hidden_dim, hidden_dim))\n",
    "            \n",
    "    def forward(self, data):\n",
    "        x, edge_index, batch = data.x, data.edge_index, data.batch\n",
    "        for l in self.mp_layers:\n",
    "            x = l(x, edge_index)\n",
    "            x = F.relu(x)\n",
    "        x = self.pool(x, batch)\n",
    "        x = self.post_mp(x)\n",
    "        return x\n",
    "    \n",
    "    def loss(self, pred, label):\n",
    "        return torch.nn.functional.binary_cross_entropy(pred, label)\n",
    "        "
   ]
  },
  {
   "cell_type": "code",
   "execution_count": 47,
   "id": "regional-advocacy",
   "metadata": {},
   "outputs": [],
   "source": [
    "def train(dataset, nb_epochs=50):\n",
    "    train_loader = DataLoader(dataset[:int(0.8*len(graphs))], batch_size=32, shuffle=False)\n",
    "    test_loader = DataLoader(dataset[int(0.2*len(graphs)):], batch_size=32, shuffle=True)\n",
    "    \n",
    "    model = Net(dataset[0].num_node_features, 50, 1, 16)\n",
    "    opt = torch.optim.Adam(model.parameters(), lr=0.01)\n",
    "    \n",
    "    for epoch in range(nb_epochs):\n",
    "        total_loss = 0\n",
    "        model.train()\n",
    "        for batch in train_loader:\n",
    "            opt.zero_grad()\n",
    "            pred = model(batch).flatten()\n",
    "            label = batch.y.to(torch.float32)\n",
    "            loss = model.loss(pred, label)\n",
    "            loss.backward()\n",
    "            opt.step()\n",
    "            total_loss += loss.item()\n",
    "        if epoch % 10 == 0:\n",
    "            test_acc = test(model, test_loader)\n",
    "            print(\"Epoch {}. Loss: {:.4f}. Test accuracy: {:.4f}\".format(epoch, total_loss, test_acc))\n",
    "        \n",
    "    return model"
   ]
  },
  {
   "cell_type": "code",
   "execution_count": 54,
   "id": "vocal-cleveland",
   "metadata": {},
   "outputs": [],
   "source": [
    "def test(model, loader):\n",
    "    model.eval()\n",
    "    \n",
    "    correct = 0\n",
    "    incorrect = 0\n",
    "    tot = 0\n",
    "    for data in loader:\n",
    "        with torch.no_grad():\n",
    "            pred = model(data).flatten()\n",
    "            label = data.y\n",
    "            pred = [0 if p <= 0.5 else 1 for p in pred]  # 0 if prediction <= 0.5, 1 othwerwise\n",
    "            correct_i = np.equal(pred, label)\n",
    "            correct += np.array(correct_i).sum().item()\n",
    "    return correct / len(loader.dataset)"
   ]
  },
  {
   "cell_type": "code",
   "execution_count": 53,
   "id": "prompt-local",
   "metadata": {},
   "outputs": [
    {
     "name": "stdout",
     "output_type": "stream",
     "text": [
      "Epoch 0. Loss: 2.0793. Test accuracy: 0.5000\n",
      "Epoch 10. Loss: 2.0774. Test accuracy: 0.5000\n",
      "Epoch 20. Loss: 2.0768. Test accuracy: 0.5000\n",
      "Epoch 30. Loss: 2.0840. Test accuracy: 0.5000\n",
      "Epoch 40. Loss: 2.0705. Test accuracy: 0.5000\n",
      "Epoch 50. Loss: 2.0759. Test accuracy: 0.5000\n",
      "Epoch 60. Loss: 2.0783. Test accuracy: 0.5000\n",
      "Epoch 70. Loss: 2.0833. Test accuracy: 0.5000\n",
      "Epoch 80. Loss: 2.0687. Test accuracy: 0.5000\n",
      "Epoch 90. Loss: 2.0671. Test accuracy: 0.5000\n",
      "Epoch 100. Loss: 2.0713. Test accuracy: 0.5000\n",
      "Epoch 110. Loss: 2.0845. Test accuracy: 0.5000\n",
      "Epoch 120. Loss: 2.0832. Test accuracy: 0.5000\n",
      "Epoch 130. Loss: 2.0796. Test accuracy: 0.5000\n",
      "Epoch 140. Loss: 2.0877. Test accuracy: 0.5000\n",
      "Epoch 150. Loss: 2.0820. Test accuracy: 0.5000\n",
      "Epoch 160. Loss: 2.0794. Test accuracy: 0.5000\n",
      "Epoch 170. Loss: 2.0784. Test accuracy: 0.5000\n",
      "Epoch 180. Loss: 2.0786. Test accuracy: 0.5000\n",
      "Epoch 190. Loss: 2.0784. Test accuracy: 0.5000\n"
     ]
    },
    {
     "data": {
      "text/plain": [
       "Net(\n",
       "  (mp_layers): ModuleList(\n",
       "    (0): GCNConv(50, 50)\n",
       "    (1): GCNConv(50, 50)\n",
       "    (2): GCNConv(50, 50)\n",
       "    (3): GCNConv(50, 50)\n",
       "    (4): GCNConv(50, 50)\n",
       "    (5): GCNConv(50, 50)\n",
       "    (6): GCNConv(50, 50)\n",
       "    (7): GCNConv(50, 50)\n",
       "    (8): GCNConv(50, 50)\n",
       "    (9): GCNConv(50, 50)\n",
       "    (10): GCNConv(50, 50)\n",
       "    (11): GCNConv(50, 50)\n",
       "    (12): GCNConv(50, 50)\n",
       "    (13): GCNConv(50, 50)\n",
       "    (14): GCNConv(50, 50)\n",
       "    (15): GCNConv(50, 50)\n",
       "  )\n",
       "  (post_mp): Sequential(\n",
       "    (0): Linear(in_features=50, out_features=50, bias=True)\n",
       "    (1): ReLU()\n",
       "    (2): Dropout(p=0.25, inplace=False)\n",
       "    (3): Linear(in_features=50, out_features=1, bias=True)\n",
       "    (4): Sigmoid()\n",
       "  )\n",
       ")"
      ]
     },
     "execution_count": 53,
     "metadata": {},
     "output_type": "execute_result"
    }
   ],
   "source": [
    "# we exprect a test accuracy of 0.5, since these types of graphs can't be distinguished by the net\n",
    "train(graphs, 200)"
   ]
  },
  {
   "cell_type": "code",
   "execution_count": null,
   "id": "sonic-community",
   "metadata": {},
   "outputs": [],
   "source": []
  }
 ],
 "metadata": {
  "kernelspec": {
   "display_name": "Python 3",
   "language": "python",
   "name": "python3"
  },
  "language_info": {
   "codemirror_mode": {
    "name": "ipython",
    "version": 3
   },
   "file_extension": ".py",
   "mimetype": "text/x-python",
   "name": "python",
   "nbconvert_exporter": "python",
   "pygments_lexer": "ipython3",
   "version": "3.8.5"
  }
 },
 "nbformat": 4,
 "nbformat_minor": 5
}
