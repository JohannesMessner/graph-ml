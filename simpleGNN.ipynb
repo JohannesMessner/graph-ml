{
 "cells": [
  {
   "cell_type": "code",
   "execution_count": 6,
   "id": "nonprofit-stuff",
   "metadata": {},
   "outputs": [],
   "source": [
    "import networkx as nx\n",
    "import numpy as np\n",
    "import torch\n",
    "import torch.nn as nn\n",
    "import torch.nn.functional as F\n",
    "from torch_geometric.data import Data\n",
    "from torch_geometric.utils import from_networkx"
   ]
  },
  {
   "cell_type": "markdown",
   "id": "mineral-wesley",
   "metadata": {},
   "source": [
    "# Generating a cycle dataset\n",
    "\n",
    "Here we generate a dataset containing pairs of graphs that are not distinguishable by the 1-WL isomorphism test.\n",
    "Later we will use GNNs to learn to tell them apart."
   ]
  },
  {
   "cell_type": "code",
   "execution_count": 9,
   "id": "yellow-milton",
   "metadata": {},
   "outputs": [],
   "source": [
    "graphs_nx = []\n",
    "graphs_is_cycle = []  # keeps track if a graph is a cycle or disjoint\n",
    "for n in range(6, 16):\n",
    "    g_cyc = nx.Graph()\n",
    "    g_cyc.add_nodes_from(range(n))\n",
    "    g_cyc.add_edges_from([(x, x+1) for x in range(n-1)] + [(n-1, 0)])  # connect nodes to cycle\n",
    "    \n",
    "    for split_n in range(3,n-2):\n",
    "        g_split = nx.Graph()\n",
    "        g_cyc.add_nodes_from(range(n))\n",
    "        g_split.add_edges_from([(x, x+1) for x in range(split_n-1)] + [(split_n-1, 0)])  # first cycle of size split_n\n",
    "        g_split.add_edges_from([(x, x+1) for x in range(split_n, n-1)] + [(n-1, split_n)])  # dsecond cycle of remaing nodes\n",
    "        graphs_nx.append(g_split)\n",
    "        graphs_is_cycle.append(False)\n",
    "        graphs_nx.append(g_cyc)  # add g_cyc every time to maintain balance\n",
    "        graphs_is_cycle.append(True)\n",
    "        \n",
    "        "
   ]
  },
  {
   "cell_type": "code",
   "execution_count": 10,
   "id": "scientific-translator",
   "metadata": {},
   "outputs": [],
   "source": [
    "# Converting the graphs to torch_geometric.data.Data objects\n",
    "graphs = [from_networkx(g) for g in graphs_nx]\n",
    "for i_g, g in enumerate(graphs):\n",
    "    g.x = torch.zeros((g.num_nodes, 50))  # uniform x/features\n",
    "    g.y = torch.tensor([1 if graphs_is_cycle[i_g] else 0])  # target label indicating whether graph is cycle or disjoint"
   ]
  },
  {
   "cell_type": "code",
   "execution_count": null,
   "id": "heavy-lecture",
   "metadata": {},
   "outputs": [],
   "source": []
  }
 ],
 "metadata": {
  "kernelspec": {
   "display_name": "Python 3",
   "language": "python",
   "name": "python3"
  },
  "language_info": {
   "codemirror_mode": {
    "name": "ipython",
    "version": 3
   },
   "file_extension": ".py",
   "mimetype": "text/x-python",
   "name": "python",
   "nbconvert_exporter": "python",
   "pygments_lexer": "ipython3",
   "version": "3.8.5"
  }
 },
 "nbformat": 4,
 "nbformat_minor": 5
}
